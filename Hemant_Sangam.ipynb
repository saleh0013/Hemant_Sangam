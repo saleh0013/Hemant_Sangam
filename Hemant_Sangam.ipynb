{
 "cells": [
  {
   "cell_type": "markdown",
   "metadata": {},
   "source": [
    "<h1 style=\"text-align:center\">Sangam 2019 - ML Hackathon by IITMAA</h1>\n",
    "<p>\n",
    "    <strong>Approach used: </strong>SARIMAX (Seasonal Autoregressive Integrated Moving Average with eXogeneous variables)<br><br>\n",
    "    <strong>Reason: </strong>The data provided is seasonal, and it is a time series data with multiple exogeneous variables influencing the result. Hence, the optimal statistical model that can be applied to this task is SARIMAX\n",
    "    <br><br>\n",
    "    <strong>Main Modules Used: </strong>\n",
    "    <ul>\n",
    "        <li><code>statsmodel</code> package in Python</li>\n",
    "    </ul>\n",
    "</p>\n",
    "\n",
    "<h2>Import Required Modules</h2>"
   ]
  },
  {
   "cell_type": "code",
   "execution_count": 1,
   "metadata": {},
   "outputs": [],
   "source": [
    "import numpy as np\n",
    "import pandas as pd\n",
    "from scipy.stats import norm\n",
    "import statsmodels.api as sm\n",
    "from tqdm import tqdm"
   ]
  },
  {
   "cell_type": "markdown",
   "metadata": {},
   "source": [
    "<h2>Read the Train Data</h2>"
   ]
  },
  {
   "cell_type": "code",
   "execution_count": 44,
   "metadata": {},
   "outputs": [
    {
     "data": {
      "text/html": [
       "<div>\n",
       "<style scoped>\n",
       "    .dataframe tbody tr th:only-of-type {\n",
       "        vertical-align: middle;\n",
       "    }\n",
       "\n",
       "    .dataframe tbody tr th {\n",
       "        vertical-align: top;\n",
       "    }\n",
       "\n",
       "    .dataframe thead th {\n",
       "        text-align: right;\n",
       "    }\n",
       "</style>\n",
       "<table border=\"1\" class=\"dataframe\">\n",
       "  <thead>\n",
       "    <tr style=\"text-align: right;\">\n",
       "      <th></th>\n",
       "      <th>Mesure</th>\n",
       "    </tr>\n",
       "    <tr>\n",
       "      <th>mois</th>\n",
       "      <th></th>\n",
       "    </tr>\n",
       "  </thead>\n",
       "  <tbody>\n",
       "    <tr>\n",
       "      <th>2018-01-01</th>\n",
       "      <td>1141</td>\n",
       "    </tr>\n",
       "    <tr>\n",
       "      <th>2018-01-01</th>\n",
       "      <td>1157</td>\n",
       "    </tr>\n",
       "    <tr>\n",
       "      <th>2018-01-01</th>\n",
       "      <td>2246</td>\n",
       "    </tr>\n",
       "    <tr>\n",
       "      <th>2018-01-01</th>\n",
       "      <td>3177</td>\n",
       "    </tr>\n",
       "    <tr>\n",
       "      <th>2018-01-01</th>\n",
       "      <td>276</td>\n",
       "    </tr>\n",
       "  </tbody>\n",
       "</table>\n",
       "</div>"
      ],
      "text/plain": [
       "            Mesure\n",
       "mois              \n",
       "2018-01-01    1141\n",
       "2018-01-01    1157\n",
       "2018-01-01    2246\n",
       "2018-01-01    3177\n",
       "2018-01-01     276"
      ]
     },
     "execution_count": 44,
     "metadata": {},
     "output_type": "execute_result"
    }
   ],
   "source": [
    "data = pd.read_excel('data1.xlsx')\n",
    "data.index = data.mois\n",
    "data = data.drop(['mois'],axis=1)\n",
    "data.head()"
   ]
  },
  {
   "cell_type": "markdown",
   "metadata": {},
   "source": [
    "<h2>Data Preprocessing</h2>\n",
    "<p>For handling categorical variables <code>is_holiday</code>, <code>weather_type</code>, <code>weather_description</code>, we perform <strong>one-hot encoding</strong></p>"
   ]
  },
  {
   "cell_type": "code",
   "execution_count": 45,
   "metadata": {},
   "outputs": [],
   "source": [
    "def pre_process(data):\n",
    "    data['Mesure'] = 0\n",
    "    for i in tqdm(range(len(data))):\n",
    "        if(data.iloc[i]['Mesure'] != \"None\"):\n",
    "            data.iloc[i]['Mesure'] = 1\n",
    "    #mois_ = pd.get_dummies(data['mois'],prefix=\"mois\")\n",
    "    Mesure_ = pd.get_dummies(data['Mesure'],prefix=\"Mesure\")\n",
    "    data = data.drop(['Mesure'],axis=1)\n",
    "    data = pd.concat([data,Mesure_],axis=1)\n",
    "    data.head()\n",
    "    return(data)"
   ]
  },
  {
   "cell_type": "code",
   "execution_count": 42,
   "metadata": {},
   "outputs": [
    {
     "name": "stderr",
     "output_type": "stream",
     "text": [
      "  0%|          | 0/2652 [00:00<?, ?it/s]<ipython-input-40-8b3a4c539f75>:5: SettingWithCopyWarning: \n",
      "A value is trying to be set on a copy of a slice from a DataFrame\n",
      "\n",
      "See the caveats in the documentation: https://pandas.pydata.org/pandas-docs/stable/user_guide/indexing.html#returning-a-view-versus-a-copy\n",
      "  data.iloc[i]['Mesure'] = 1\n",
      "100%|██████████| 2652/2652 [00:00<00:00, 6014.94it/s]\n"
     ]
    }
   ],
   "source": [
    "data = pre_process(data)"
   ]
  },
  {
   "cell_type": "markdown",
   "metadata": {},
   "source": [
    "<h2>Train Data Assignment </h2>\n",
    "<h4>(Here all data is set to train, but for validation the commented out part should be used)</h4>"
   ]
  },
  {
   "cell_type": "code",
   "execution_count": 46,
   "metadata": {},
   "outputs": [
    {
     "data": {
      "text/html": [
       "<div>\n",
       "<style scoped>\n",
       "    .dataframe tbody tr th:only-of-type {\n",
       "        vertical-align: middle;\n",
       "    }\n",
       "\n",
       "    .dataframe tbody tr th {\n",
       "        vertical-align: top;\n",
       "    }\n",
       "\n",
       "    .dataframe thead th {\n",
       "        text-align: right;\n",
       "    }\n",
       "</style>\n",
       "<table border=\"1\" class=\"dataframe\">\n",
       "  <thead>\n",
       "    <tr style=\"text-align: right;\">\n",
       "      <th></th>\n",
       "      <th>Mesure</th>\n",
       "    </tr>\n",
       "    <tr>\n",
       "      <th>mois</th>\n",
       "      <th></th>\n",
       "    </tr>\n",
       "  </thead>\n",
       "  <tbody>\n",
       "    <tr>\n",
       "      <th>2018-01-01</th>\n",
       "      <td>1141</td>\n",
       "    </tr>\n",
       "    <tr>\n",
       "      <th>2018-01-01</th>\n",
       "      <td>1157</td>\n",
       "    </tr>\n",
       "    <tr>\n",
       "      <th>2018-01-01</th>\n",
       "      <td>2246</td>\n",
       "    </tr>\n",
       "    <tr>\n",
       "      <th>2018-01-01</th>\n",
       "      <td>3177</td>\n",
       "    </tr>\n",
       "    <tr>\n",
       "      <th>2018-01-01</th>\n",
       "      <td>276</td>\n",
       "    </tr>\n",
       "  </tbody>\n",
       "</table>\n",
       "</div>"
      ],
      "text/plain": [
       "            Mesure\n",
       "mois              \n",
       "2018-01-01    1141\n",
       "2018-01-01    1157\n",
       "2018-01-01    2246\n",
       "2018-01-01    3177\n",
       "2018-01-01     276"
      ]
     },
     "execution_count": 46,
     "metadata": {},
     "output_type": "execute_result"
    }
   ],
   "source": [
    "#train = data.iloc[:int(0.9*len(data))]\n",
    "# test = data.iloc[int(0.9*len(data)):]'\n",
    "\n",
    "train = data\n",
    "train.head()"
   ]
  },
  {
   "cell_type": "markdown",
   "metadata": {},
   "source": [
    "<h2>Specify endogenous and exogenous variables in the data</h2>"
   ]
  },
  {
   "cell_type": "code",
   "execution_count": 49,
   "metadata": {},
   "outputs": [
    {
     "name": "stdout",
     "output_type": "stream",
     "text": [
      "            Mesure\n",
      "mois              \n",
      "2018-01-01    1141\n",
      "2018-01-01    1157\n",
      "2018-01-01    2246\n",
      "2018-01-01    3177\n",
      "2018-01-01     276\n",
      "...            ...\n",
      "2021-04-01     962\n",
      "2021-04-01   11445\n",
      "2021-05-01   20998\n",
      "2021-05-01  439194\n",
      "2021-05-01  101445\n",
      "\n",
      "[2652 rows x 1 columns]\n",
      "            const\n",
      "mois             \n",
      "2018-01-01    1.0\n",
      "2018-01-01    1.0\n",
      "2018-01-01    1.0\n",
      "2018-01-01    1.0\n",
      "2018-01-01    1.0\n",
      "...           ...\n",
      "2021-04-01    1.0\n",
      "2021-04-01    1.0\n",
      "2021-05-01    1.0\n",
      "2021-05-01    1.0\n",
      "2021-05-01    1.0\n",
      "\n",
      "[2652 rows x 1 columns]\n"
     ]
    }
   ],
   "source": [
    "# Variables\n",
    "exog_data = train.drop(['Mesure'],axis=1)\n",
    "exog = sm.add_constant(exog_data)\n",
    "endog = train[[u'Mesure']]\n",
    "\n",
    "print(endog)\n",
    "print(exog)\n",
    "# nobs = endog.shape[0]"
   ]
  },
  {
   "cell_type": "markdown",
   "metadata": {},
   "source": [
    "<h2>Train the Model (Slow Cell)</h2>"
   ]
  },
  {
   "cell_type": "code",
   "execution_count": 50,
   "metadata": {},
   "outputs": [
    {
     "name": "stderr",
     "output_type": "stream",
     "text": [
      "/Users/space/opt/anaconda3/lib/python3.8/site-packages/statsmodels/tsa/base/tsa_model.py:581: ValueWarning: A date index has been provided, but it has no associated frequency information and so will be ignored when e.g. forecasting.\n",
      "  warnings.warn('A date index has been provided, but it has no'\n",
      "/Users/space/opt/anaconda3/lib/python3.8/site-packages/statsmodels/tsa/base/tsa_model.py:581: ValueWarning: A date index has been provided, but it has no associated frequency information and so will be ignored when e.g. forecasting.\n",
      "  warnings.warn('A date index has been provided, but it has no'\n"
     ]
    },
    {
     "name": "stdout",
     "output_type": "stream",
     "text": [
      "                               SARIMAX Results                                \n",
      "==============================================================================\n",
      "Dep. Variable:                 Mesure   No. Observations:                 2652\n",
      "Model:               SARIMAX(1, 0, 1)   Log Likelihood              -28570.360\n",
      "Date:                Thu, 03 Mar 2022   AIC                          57148.720\n",
      "Time:                        11:31:02   BIC                          57172.252\n",
      "Sample:                             0   HQIC                         57157.238\n",
      "                               - 2652                                         \n",
      "Covariance Type:                  opg                                         \n",
      "==============================================================================\n",
      "                 coef    std err          z      P>|z|      [0.025      0.975]\n",
      "------------------------------------------------------------------------------\n",
      "const       6365.7885   1467.539      4.338      0.000    3489.464    9242.113\n",
      "ar.L1          0.9660      0.013     74.095      0.000       0.940       0.992\n",
      "ma.L1         -0.8607      0.015    -56.528      0.000      -0.891      -0.831\n",
      "sigma2      1.354e+08      1.532   8.84e+07      0.000    1.35e+08    1.35e+08\n",
      "===================================================================================\n",
      "Ljung-Box (L1) (Q):                   5.82   Jarque-Bera (JB):          57064177.13\n",
      "Prob(Q):                              0.02   Prob(JB):                         0.00\n",
      "Heteroskedasticity (H):              10.84   Skew:                            20.17\n",
      "Prob(H) (two-sided):                  0.00   Kurtosis:                       720.49\n",
      "===================================================================================\n",
      "\n",
      "Warnings:\n",
      "[1] Covariance matrix calculated using the outer product of gradients (complex-step).\n",
      "[2] Covariance matrix is singular or near-singular, with condition number 4.85e+21. Standard errors may be unstable.\n"
     ]
    }
   ],
   "source": [
    "# Fit the model\n",
    "mod = sm.tsa.statespace.SARIMAX(endog, exog=exog, order=(1,0,1))\n",
    "fit_res = mod.fit(disp=False)\n",
    "print(fit_res.summary())"
   ]
  },
  {
   "cell_type": "markdown",
   "metadata": {},
   "source": [
    "<h2>Read in Test Set</h2>"
   ]
  },
  {
   "cell_type": "code",
   "execution_count": 51,
   "metadata": {},
   "outputs": [
    {
     "data": {
      "text/html": [
       "<div>\n",
       "<style scoped>\n",
       "    .dataframe tbody tr th:only-of-type {\n",
       "        vertical-align: middle;\n",
       "    }\n",
       "\n",
       "    .dataframe tbody tr th {\n",
       "        vertical-align: top;\n",
       "    }\n",
       "\n",
       "    .dataframe thead th {\n",
       "        text-align: right;\n",
       "    }\n",
       "</style>\n",
       "<table border=\"1\" class=\"dataframe\">\n",
       "  <thead>\n",
       "    <tr style=\"text-align: right;\">\n",
       "      <th></th>\n",
       "      <th>Mesure</th>\n",
       "    </tr>\n",
       "    <tr>\n",
       "      <th>mois</th>\n",
       "      <th></th>\n",
       "    </tr>\n",
       "  </thead>\n",
       "  <tbody>\n",
       "    <tr>\n",
       "      <th>2018-01-01</th>\n",
       "      <td>1141</td>\n",
       "    </tr>\n",
       "    <tr>\n",
       "      <th>2018-01-01</th>\n",
       "      <td>1157</td>\n",
       "    </tr>\n",
       "    <tr>\n",
       "      <th>2018-01-01</th>\n",
       "      <td>2246</td>\n",
       "    </tr>\n",
       "    <tr>\n",
       "      <th>2018-01-01</th>\n",
       "      <td>3177</td>\n",
       "    </tr>\n",
       "    <tr>\n",
       "      <th>2018-01-01</th>\n",
       "      <td>276</td>\n",
       "    </tr>\n",
       "  </tbody>\n",
       "</table>\n",
       "</div>"
      ],
      "text/plain": [
       "            Mesure\n",
       "mois              \n",
       "2018-01-01    1141\n",
       "2018-01-01    1157\n",
       "2018-01-01    2246\n",
       "2018-01-01    3177\n",
       "2018-01-01     276"
      ]
     },
     "execution_count": 51,
     "metadata": {},
     "output_type": "execute_result"
    }
   ],
   "source": [
    "test_set = pd.read_excel(\"data.xlsx\")\n",
    "test_set.index = test_set.mois\n",
    "test_set = test_set.drop(['mois'],axis=1)\n",
    "test_set.head()"
   ]
  },
  {
   "cell_type": "code",
   "execution_count": 52,
   "metadata": {},
   "outputs": [
    {
     "name": "stderr",
     "output_type": "stream",
     "text": [
      "100%|██████████| 2652/2652 [00:00<00:00, 8429.43it/s]\n"
     ]
    }
   ],
   "source": [
    "test_set = pre_process(test_set)"
   ]
  },
  {
   "cell_type": "code",
   "execution_count": 53,
   "metadata": {},
   "outputs": [
    {
     "data": {
      "text/html": [
       "<div>\n",
       "<style scoped>\n",
       "    .dataframe tbody tr th:only-of-type {\n",
       "        vertical-align: middle;\n",
       "    }\n",
       "\n",
       "    .dataframe tbody tr th {\n",
       "        vertical-align: top;\n",
       "    }\n",
       "\n",
       "    .dataframe thead th {\n",
       "        text-align: right;\n",
       "    }\n",
       "</style>\n",
       "<table border=\"1\" class=\"dataframe\">\n",
       "  <thead>\n",
       "    <tr style=\"text-align: right;\">\n",
       "      <th></th>\n",
       "      <th>Mesure_1</th>\n",
       "    </tr>\n",
       "    <tr>\n",
       "      <th>mois</th>\n",
       "      <th></th>\n",
       "    </tr>\n",
       "  </thead>\n",
       "  <tbody>\n",
       "    <tr>\n",
       "      <th>2018-01-01</th>\n",
       "      <td>1</td>\n",
       "    </tr>\n",
       "    <tr>\n",
       "      <th>2018-01-01</th>\n",
       "      <td>1</td>\n",
       "    </tr>\n",
       "    <tr>\n",
       "      <th>2018-01-01</th>\n",
       "      <td>1</td>\n",
       "    </tr>\n",
       "    <tr>\n",
       "      <th>2018-01-01</th>\n",
       "      <td>1</td>\n",
       "    </tr>\n",
       "    <tr>\n",
       "      <th>2018-01-01</th>\n",
       "      <td>1</td>\n",
       "    </tr>\n",
       "  </tbody>\n",
       "</table>\n",
       "</div>"
      ],
      "text/plain": [
       "            Mesure_1\n",
       "mois                \n",
       "2018-01-01         1\n",
       "2018-01-01         1\n",
       "2018-01-01         1\n",
       "2018-01-01         1\n",
       "2018-01-01         1"
      ]
     },
     "execution_count": 53,
     "metadata": {},
     "output_type": "execute_result"
    }
   ],
   "source": [
    "test_set.head()"
   ]
  },
  {
   "cell_type": "markdown",
   "metadata": {},
   "source": [
    "<h2>Handling columns that aren't present in the test set, but are in the train set</h2>"
   ]
  },
  {
   "cell_type": "code",
   "execution_count": 54,
   "metadata": {},
   "outputs": [
    {
     "data": {
      "text/html": [
       "<div>\n",
       "<style scoped>\n",
       "    .dataframe tbody tr th:only-of-type {\n",
       "        vertical-align: middle;\n",
       "    }\n",
       "\n",
       "    .dataframe tbody tr th {\n",
       "        vertical-align: top;\n",
       "    }\n",
       "\n",
       "    .dataframe thead th {\n",
       "        text-align: right;\n",
       "    }\n",
       "</style>\n",
       "<table border=\"1\" class=\"dataframe\">\n",
       "  <thead>\n",
       "    <tr style=\"text-align: right;\">\n",
       "      <th></th>\n",
       "      <th>Mesure_1</th>\n",
       "      <th>Mesure</th>\n",
       "    </tr>\n",
       "    <tr>\n",
       "      <th>mois</th>\n",
       "      <th></th>\n",
       "      <th></th>\n",
       "    </tr>\n",
       "  </thead>\n",
       "  <tbody>\n",
       "    <tr>\n",
       "      <th>2021-04-01</th>\n",
       "      <td>1</td>\n",
       "      <td>0</td>\n",
       "    </tr>\n",
       "    <tr>\n",
       "      <th>2021-04-01</th>\n",
       "      <td>1</td>\n",
       "      <td>0</td>\n",
       "    </tr>\n",
       "    <tr>\n",
       "      <th>2021-05-01</th>\n",
       "      <td>1</td>\n",
       "      <td>0</td>\n",
       "    </tr>\n",
       "    <tr>\n",
       "      <th>2021-05-01</th>\n",
       "      <td>1</td>\n",
       "      <td>0</td>\n",
       "    </tr>\n",
       "    <tr>\n",
       "      <th>2021-05-01</th>\n",
       "      <td>1</td>\n",
       "      <td>0</td>\n",
       "    </tr>\n",
       "  </tbody>\n",
       "</table>\n",
       "</div>"
      ],
      "text/plain": [
       "            Mesure_1  Mesure\n",
       "mois                        \n",
       "2021-04-01         1       0\n",
       "2021-04-01         1       0\n",
       "2021-05-01         1       0\n",
       "2021-05-01         1       0\n",
       "2021-05-01         1       0"
      ]
     },
     "execution_count": 54,
     "metadata": {},
     "output_type": "execute_result"
    }
   ],
   "source": [
    "for i in train.columns:\n",
    "    if i not in test_set.columns:\n",
    "        test_set[i] = 0\n",
    "test_set.tail()"
   ]
  },
  {
   "cell_type": "markdown",
   "metadata": {},
   "source": [
    "<h2>Forecasting the <code>traffic_volume</code> for the given test set</h2>"
   ]
  },
  {
   "cell_type": "code",
   "execution_count": 56,
   "metadata": {},
   "outputs": [
    {
     "name": "stdout",
     "output_type": "stream",
     "text": [
      "            Mesure_1\n",
      "mois                \n",
      "2018-01-01         1\n",
      "2018-01-01         1\n",
      "2018-01-01         1\n",
      "2018-01-01         1\n",
      "2018-01-01         1\n",
      "...              ...\n",
      "2021-04-01         1\n",
      "2021-04-01         1\n",
      "2021-05-01         1\n",
      "2021-05-01         1\n",
      "2021-05-01         1\n",
      "\n",
      "[2652 rows x 1 columns]\n",
      "(2652, 1)\n",
      "2652    58540.918895\n",
      "2653    56767.507620\n",
      "2654    55054.373866\n",
      "2655    53399.468825\n",
      "2656    51800.813328\n",
      "            ...     \n",
      "5299     6365.788522\n",
      "5300     6365.788522\n",
      "5301     6365.788522\n",
      "5302     6365.788522\n",
      "5303     6365.788522\n",
      "Name: predicted_mean, Length: 2652, dtype: float64 2652 2652\n"
     ]
    },
    {
     "name": "stderr",
     "output_type": "stream",
     "text": [
      "/Users/space/opt/anaconda3/lib/python3.8/site-packages/statsmodels/tsa/base/tsa_model.py:376: ValueWarning: No supported index is available. Prediction results will be given with an integer index beginning at `start`.\n",
      "  warnings.warn('No supported index is available.'\n"
     ]
    }
   ],
   "source": [
    "# last_train = train.iloc[len(train)-1].name\n",
    "first_predict = test_set.iloc[0].name\n",
    "# print(last_train,first_predict)\n",
    "# import datetime as dt\n",
    "\n",
    "# start_dt = dt.datetime.strptime(last_train, '%Y-%m-%d %H:%M:%S')\n",
    "# predict_dt = dt.datetime.strptime(first_predict, '%Y-%m-%d %H:%M:%S')\n",
    "# diff = (predict_dt - start_dt) \n",
    "# days, seconds = diff.days, diff.seconds\n",
    "# hours = days * 24 + seconds // 3600\n",
    "# print(hours)\n",
    "\n",
    "exog1 = (sm.add_constant(test_set).loc[first_predict:])\n",
    "exog1 = exog1.drop(['Mesure'],axis=1)\n",
    "\n",
    "# print(pd.concat([exog,exog1]))\n",
    "# predict = fit_res.predict(start=hours,end=hours,exog=exog1)\n",
    "# print(predict)\n",
    "\n",
    "print(exog1)\n",
    "print(exog1.shape)\n",
    "forecast = fit_res.forecast(steps = len(test_set),exog = exog1)\n",
    "print(forecast,len(forecast),len(test_set))"
   ]
  },
  {
   "cell_type": "code",
   "execution_count": 57,
   "metadata": {},
   "outputs": [
    {
     "data": {
      "text/html": [
       "<div>\n",
       "<style scoped>\n",
       "    .dataframe tbody tr th:only-of-type {\n",
       "        vertical-align: middle;\n",
       "    }\n",
       "\n",
       "    .dataframe tbody tr th {\n",
       "        vertical-align: top;\n",
       "    }\n",
       "\n",
       "    .dataframe thead th {\n",
       "        text-align: right;\n",
       "    }\n",
       "</style>\n",
       "<table border=\"1\" class=\"dataframe\">\n",
       "  <thead>\n",
       "    <tr style=\"text-align: right;\">\n",
       "      <th></th>\n",
       "      <th>mois</th>\n",
       "      <th>Mesure</th>\n",
       "    </tr>\n",
       "    <tr>\n",
       "      <th>mois</th>\n",
       "      <th></th>\n",
       "      <th></th>\n",
       "    </tr>\n",
       "  </thead>\n",
       "  <tbody>\n",
       "    <tr>\n",
       "      <th>2018-01-01</th>\n",
       "      <td>NaN</td>\n",
       "      <td>NaN</td>\n",
       "    </tr>\n",
       "    <tr>\n",
       "      <th>2018-01-01</th>\n",
       "      <td>NaN</td>\n",
       "      <td>NaN</td>\n",
       "    </tr>\n",
       "    <tr>\n",
       "      <th>2018-01-01</th>\n",
       "      <td>NaN</td>\n",
       "      <td>NaN</td>\n",
       "    </tr>\n",
       "    <tr>\n",
       "      <th>2018-01-01</th>\n",
       "      <td>NaN</td>\n",
       "      <td>NaN</td>\n",
       "    </tr>\n",
       "    <tr>\n",
       "      <th>2018-01-01</th>\n",
       "      <td>NaN</td>\n",
       "      <td>NaN</td>\n",
       "    </tr>\n",
       "  </tbody>\n",
       "</table>\n",
       "</div>"
      ],
      "text/plain": [
       "           mois Mesure\n",
       "mois                  \n",
       "2018-01-01  NaN    NaN\n",
       "2018-01-01  NaN    NaN\n",
       "2018-01-01  NaN    NaN\n",
       "2018-01-01  NaN    NaN\n",
       "2018-01-01  NaN    NaN"
      ]
     },
     "execution_count": 57,
     "metadata": {},
     "output_type": "execute_result"
    }
   ],
   "source": [
    "result_data = pd.DataFrame(index=test_set.index, columns=['mois','Mesure'])\n",
    "result_data.head()"
   ]
  },
  {
   "cell_type": "code",
   "execution_count": 58,
   "metadata": {},
   "outputs": [
    {
     "name": "stderr",
     "output_type": "stream",
     "text": [
      "100%|██████████| 2652/2652 [00:01<00:00, 1963.50it/s]\n"
     ]
    },
    {
     "data": {
      "text/html": [
       "<div>\n",
       "<style scoped>\n",
       "    .dataframe tbody tr th:only-of-type {\n",
       "        vertical-align: middle;\n",
       "    }\n",
       "\n",
       "    .dataframe tbody tr th {\n",
       "        vertical-align: top;\n",
       "    }\n",
       "\n",
       "    .dataframe thead th {\n",
       "        text-align: right;\n",
       "    }\n",
       "</style>\n",
       "<table border=\"1\" class=\"dataframe\">\n",
       "  <thead>\n",
       "    <tr style=\"text-align: right;\">\n",
       "      <th></th>\n",
       "      <th>mois</th>\n",
       "      <th>Mesure</th>\n",
       "    </tr>\n",
       "    <tr>\n",
       "      <th>mois</th>\n",
       "      <th></th>\n",
       "      <th></th>\n",
       "    </tr>\n",
       "  </thead>\n",
       "  <tbody>\n",
       "    <tr>\n",
       "      <th>2018-01-01</th>\n",
       "      <td>NaN</td>\n",
       "      <td>58540.918895</td>\n",
       "    </tr>\n",
       "    <tr>\n",
       "      <th>2018-01-01</th>\n",
       "      <td>NaN</td>\n",
       "      <td>56767.50762</td>\n",
       "    </tr>\n",
       "    <tr>\n",
       "      <th>2018-01-01</th>\n",
       "      <td>NaN</td>\n",
       "      <td>55054.373866</td>\n",
       "    </tr>\n",
       "    <tr>\n",
       "      <th>2018-01-01</th>\n",
       "      <td>NaN</td>\n",
       "      <td>53399.468825</td>\n",
       "    </tr>\n",
       "    <tr>\n",
       "      <th>2018-01-01</th>\n",
       "      <td>NaN</td>\n",
       "      <td>51800.813328</td>\n",
       "    </tr>\n",
       "  </tbody>\n",
       "</table>\n",
       "</div>"
      ],
      "text/plain": [
       "           mois        Mesure\n",
       "mois                         \n",
       "2018-01-01  NaN  58540.918895\n",
       "2018-01-01  NaN   56767.50762\n",
       "2018-01-01  NaN  55054.373866\n",
       "2018-01-01  NaN  53399.468825\n",
       "2018-01-01  NaN  51800.813328"
      ]
     },
     "execution_count": 58,
     "metadata": {},
     "output_type": "execute_result"
    }
   ],
   "source": [
    "chk = 0\n",
    "for i in tqdm(forecast):\n",
    "    result_data.iloc[chk][\"date_time\"] = test_set.iloc[chk].name\n",
    "    result_data.iloc[chk][\"Mesure\"] = i\n",
    "    chk+=1\n",
    "result_data.head()"
   ]
  },
  {
   "cell_type": "code",
   "execution_count": 59,
   "metadata": {},
   "outputs": [],
   "source": [
    "result_data.to_csv('results.csv', header=['mois','Mesure'], index=False) "
   ]
  },
  {
   "cell_type": "code",
   "execution_count": null,
   "metadata": {},
   "outputs": [],
   "source": []
  }
 ],
 "metadata": {
  "kernelspec": {
   "display_name": "Python 3",
   "language": "python",
   "name": "python3"
  },
  "language_info": {
   "codemirror_mode": {
    "name": "ipython",
    "version": 3
   },
   "file_extension": ".py",
   "mimetype": "text/x-python",
   "name": "python",
   "nbconvert_exporter": "python",
   "pygments_lexer": "ipython3",
   "version": "3.8.8"
  }
 },
 "nbformat": 4,
 "nbformat_minor": 4
}
